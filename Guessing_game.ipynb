{
 "cells": [
  {
   "cell_type": "code",
   "execution_count": null,
   "metadata": {},
   "outputs": [],
   "source": [
    "import random\n",
    "\n",
    "number = random.randint(1, 10)\n",
    "player_name = input(\"Enter your name:\")\n",
    "\n",
    "number_of_attempts = 0\n",
    "print(\"Okay!\" + player_name + \" Guess a number between 1 to 10\" )\n",
    "\n",
    "while number_of_attempts < 5:\n",
    "    guess = int(input())\n",
    "    number_of_attempts+= 1\n",
    "    if guess < number:\n",
    "        print(\"Number is too low!\")\n",
    "    elif guess > number:\n",
    "        print(\"Number is too high!\")\n",
    "    elif guess == number:\n",
    "        break\n",
    "if guess==number:\n",
    "    print(\"You guessed it right in \" + str(number_of_attempts) + \" attempt\")\n",
    "else:\n",
    "    print(\"You have no attempts left\")\n",
    "\n"
   ]
  },
  {
   "cell_type": "code",
   "execution_count": null,
   "metadata": {},
   "outputs": [],
   "source": []
  }
 ],
 "metadata": {
  "kernelspec": {
   "display_name": "Python 3",
   "language": "python",
   "name": "python3"
  },
  "language_info": {
   "codemirror_mode": {
    "name": "ipython",
    "version": 3
   },
   "file_extension": ".py",
   "mimetype": "text/x-python",
   "name": "python",
   "nbconvert_exporter": "python",
   "pygments_lexer": "ipython3",
   "version": "3.7.6"
  }
 },
 "nbformat": 4,
 "nbformat_minor": 4
}
